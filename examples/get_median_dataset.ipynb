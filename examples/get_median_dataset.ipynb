{
 "cells": [
  {
   "cell_type": "code",
   "execution_count": 1,
   "metadata": {},
   "outputs": [],
   "source": [
    "import pandas as pd\n",
    "import copy\n",
    "import numpy as np\n",
    "import os\n",
    "import sys"
   ]
  },
  {
   "cell_type": "code",
   "execution_count": 2,
   "metadata": {},
   "outputs": [],
   "source": [
    "ALL_KEYS = [\"fold\", \"uid\", \"questions\", \"concepts\", \"responses\", \"timestamps\",\n",
    "            \"usetimes\", \"selectmasks\", \"is_repeat\", \"qidxs\", \"rest\", \"orirow\", \"cidxs\"]\n",
    "ONE_KEYS = [\"fold\", \"uid\",\"uni_concepts_num\",\"interaction_num\"]\n"
   ]
  },
  {
   "cell_type": "code",
   "execution_count": 38,
   "metadata": {},
   "outputs": [],
   "source": [
    "df = pd.read_csv(\"../data/nips_task34/train_valid.csv\")"
   ]
  },
  {
   "cell_type": "code",
   "execution_count": 39,
   "metadata": {},
   "outputs": [
    {
     "data": {
      "text/plain": [
       "Index(['fold', 'uid', 'questions', 'concepts', 'responses', 'timestamps',\n",
       "       'is_repeat'],\n",
       "      dtype='object')"
      ]
     },
     "execution_count": 39,
     "metadata": {},
     "output_type": "execute_result"
    }
   ],
   "source": [
    "df.columns"
   ]
  },
  {
   "cell_type": "code",
   "execution_count": 40,
   "metadata": {},
   "outputs": [],
   "source": [
    "def get_int_num(row):\n",
    "    interaction_num = len(row[\"responses\"].split(\",\"))\n",
    "    row[\"interaction_num\"] = interaction_num\n",
    "    return row"
   ]
  },
  {
   "cell_type": "code",
   "execution_count": 41,
   "metadata": {},
   "outputs": [],
   "source": [
    "df2 = df.apply(get_int_num, axis=1)\n",
    "    "
   ]
  },
  {
   "cell_type": "code",
   "execution_count": 42,
   "metadata": {},
   "outputs": [
    {
     "data": {
      "text/plain": [
       "(3935, 8)"
      ]
     },
     "execution_count": 42,
     "metadata": {},
     "output_type": "execute_result"
    }
   ],
   "source": [
    "df2.shape"
   ]
  },
  {
   "cell_type": "code",
   "execution_count": 43,
   "metadata": {},
   "outputs": [
    {
     "data": {
      "text/plain": [
       "count    3935.000000\n",
       "mean      285.484879\n",
       "std       186.534781\n",
       "min        50.000000\n",
       "25%       126.000000\n",
       "50%       242.000000\n",
       "75%       418.000000\n",
       "max       839.000000\n",
       "Name: interaction_num, dtype: float64"
      ]
     },
     "execution_count": 43,
     "metadata": {},
     "output_type": "execute_result"
    }
   ],
   "source": [
    "# 查找interaction的以50为分界的分布\n",
    "df2[\"interaction_num\"].describe()"
   ]
  },
  {
   "cell_type": "code",
   "execution_count": 44,
   "metadata": {},
   "outputs": [],
   "source": [
    "df3 = df2[df2[\"interaction_num\"]>242]\n",
    "df4= df2[df2[\"interaction_num\"]<=242]"
   ]
  },
  {
   "cell_type": "code",
   "execution_count": 45,
   "metadata": {},
   "outputs": [
    {
     "data": {
      "text/plain": [
       "(1966, 8)"
      ]
     },
     "execution_count": 45,
     "metadata": {},
     "output_type": "execute_result"
    }
   ],
   "source": [
    "df3.shape"
   ]
  },
  {
   "cell_type": "code",
   "execution_count": 46,
   "metadata": {},
   "outputs": [],
   "source": [
    "# 从df3和df4中各随机取出一半的数据，组成新的df5\n",
    "df5 = pd.concat([df3.sample(frac=0.5), df4.sample(frac=0.5)])"
   ]
  },
  {
   "cell_type": "code",
   "execution_count": 47,
   "metadata": {},
   "outputs": [
    {
     "data": {
      "text/plain": [
       "(1967, 8)"
      ]
     },
     "execution_count": 47,
     "metadata": {},
     "output_type": "execute_result"
    }
   ],
   "source": [
    "df5.shape"
   ]
  },
  {
   "cell_type": "code",
   "execution_count": 48,
   "metadata": {},
   "outputs": [],
   "source": [
    "def calStatistics(df, stares, key):\n",
    "    allin, allselect = 0, 0\n",
    "    allqs, allcs = set(), set()\n",
    "    for i, row in df.iterrows():\n",
    "        rs = row[\"responses\"].split(\",\")\n",
    "        curlen = len(rs) - rs.count(\"-1\")\n",
    "        allin += curlen\n",
    "        if \"selectmasks\" in row:\n",
    "            ss = row[\"selectmasks\"].split(\",\")\n",
    "            slen = ss.count(\"1\")\n",
    "            allselect += slen\n",
    "        if \"concepts\" in row:\n",
    "            cs = row[\"concepts\"].split(\",\")\n",
    "            fc = list()\n",
    "            for c in cs:\n",
    "                cc = c.split(\"_\")\n",
    "                fc.extend(cc)\n",
    "            curcs = set(fc) - {\"-1\"}\n",
    "            allcs |= curcs\n",
    "        if \"questions\" in row:\n",
    "            qs = row[\"questions\"].split(\",\")\n",
    "            curqs = set(qs) - {\"-1\"}\n",
    "            allqs |= curqs\n",
    "    stares.append(\",\".join([str(s)\n",
    "                  for s in [key, allin, df.shape[0], allselect]]))\n",
    "    return allin, allselect, len(allqs), len(allcs), df.shape[0]\n"
   ]
  },
  {
   "cell_type": "code",
   "execution_count": 49,
   "metadata": {},
   "outputs": [
    {
     "name": "stdout",
     "output_type": "stream",
     "text": [
      "train+valid original interactions num: 862498, select num: 0, qs: 919, cs: 57, seqnum: 1966\n"
     ]
    }
   ],
   "source": [
    "stares = []\n",
    "ins, ss, qs, cs, seqnum = calStatistics(df3, stares, 'origin train valid')\n",
    "print(\n",
    "        f\"train+valid original interactions num: {ins}, select num: {ss}, qs: {qs}, cs: {cs}, seqnum: {seqnum}\")"
   ]
  },
  {
   "cell_type": "markdown",
   "metadata": {},
   "source": [
    "# 切分sequences"
   ]
  },
  {
   "cell_type": "code",
   "execution_count": 50,
   "metadata": {},
   "outputs": [],
   "source": [
    "def KFold_split(df, k=5):\n",
    "    df = df.sample(frac=1.0, random_state=1024)\n",
    "    datanum = df.shape[0]\n",
    "    test_ratio = 1 / k\n",
    "    test_num = int(datanum * test_ratio)\n",
    "    rest = datanum % k\n",
    "\n",
    "    start = 0\n",
    "    folds = []\n",
    "    for i in range(0, k):\n",
    "        if rest > 0:\n",
    "            end = start + test_num + 1\n",
    "            rest -= 1\n",
    "        else:\n",
    "            end = start + test_num\n",
    "        folds.extend([i] * (end - start))\n",
    "        print(f\"fold: {i+1}, start: {start}, end: {end}, total num: {datanum}\")\n",
    "        start = end\n",
    "    # report\n",
    "    finaldf = copy.deepcopy(df)\n",
    "    finaldf[\"fold\"] = folds\n",
    "    return finaldf"
   ]
  },
  {
   "cell_type": "code",
   "execution_count": 59,
   "metadata": {},
   "outputs": [
    {
     "name": "stdout",
     "output_type": "stream",
     "text": [
      "fold: 1, start: 0, end: 394, total num: 1969\n",
      "fold: 2, start: 394, end: 788, total num: 1969\n",
      "fold: 3, start: 788, end: 1182, total num: 1969\n",
      "fold: 4, start: 1182, end: 1576, total num: 1969\n",
      "fold: 5, start: 1576, end: 1969, total num: 1969\n"
     ]
    }
   ],
   "source": [
    "df4 = KFold_split(df4, 5)\n",
    "stares = []"
   ]
  },
  {
   "cell_type": "code",
   "execution_count": 60,
   "metadata": {},
   "outputs": [],
   "source": [
    "def generate_sequences(df, effective_keys, min_seq_len=3, maxlen=200, pad_val=-1):\n",
    "    save_keys = list(effective_keys) + [\"selectmasks\"]\n",
    "    dres = {\"selectmasks\": []}\n",
    "    dropnum = 0\n",
    "    for i, row in df.iterrows():\n",
    "        dcur = save_dcur(row, effective_keys)\n",
    "\n",
    "        rest, lenrs = len(dcur[\"responses\"]), len(dcur[\"responses\"])\n",
    "        j = 0\n",
    "        while lenrs >= j + maxlen:\n",
    "            rest = rest - (maxlen)\n",
    "            for key in effective_keys:\n",
    "                dres.setdefault(key, [])\n",
    "                if key not in ONE_KEYS:\n",
    "                    # [str(k) for k in dcur[key][j: j + maxlen]]))\n",
    "                    dres[key].append(\",\".join(dcur[key][j: j + maxlen]))\n",
    "                else:\n",
    "                    dres[key].append(dcur[key])\n",
    "            dres[\"selectmasks\"].append(\",\".join([\"1\"] * maxlen))\n",
    "\n",
    "            j += maxlen\n",
    "        if rest < min_seq_len:  # delete sequence len less than min_seq_len\n",
    "            dropnum += rest\n",
    "            continue\n",
    "\n",
    "        pad_dim = maxlen - rest\n",
    "        for key in effective_keys:\n",
    "            dres.setdefault(key, [])\n",
    "            if key not in ONE_KEYS:\n",
    "                paded_info = np.concatenate(\n",
    "                    [dcur[key][j:], np.array([pad_val] * pad_dim)])\n",
    "                dres[key].append(\",\".join([str(k) for k in paded_info]))\n",
    "            else:\n",
    "                dres[key].append(dcur[key])\n",
    "        dres[\"selectmasks\"].append(\n",
    "            \",\".join([\"1\"] * rest + [str(pad_val)] * pad_dim))\n",
    "\n",
    "    # after preprocess data, report\n",
    "    dfinal = dict()\n",
    "    for key in ALL_KEYS:\n",
    "        if key in save_keys:\n",
    "            dfinal[key] = dres[key]\n",
    "    finaldf = pd.DataFrame(dfinal)\n",
    "    print(f\"dropnum: {dropnum}\")\n",
    "    return finaldf\n",
    "\n",
    "def save_dcur(row, effective_keys):\n",
    "    dcur = dict()\n",
    "    for key in effective_keys:\n",
    "        if key not in ONE_KEYS:\n",
    "            dcur[key] = row[key].split(\",\")#[int(i) for i in row[key].split(\",\")]\n",
    "        else:\n",
    "            dcur[key] = row[key]\n",
    "    return dcur"
   ]
  },
  {
   "cell_type": "code",
   "execution_count": 61,
   "metadata": {},
   "outputs": [
    {
     "name": "stdout",
     "output_type": "stream",
     "text": [
      "dropnum: 31\n",
      "train+valid sequences interactions num: 260854, select num: 260854, qs: 948, cs: 57, seqnum: 2297\n"
     ]
    }
   ],
   "source": [
    "effective_keys = df3.keys()\n",
    "split_seqs = generate_sequences(\n",
    "    df4, effective_keys=effective_keys)\n",
    "ins, ss, qs, cs, seqnum = calStatistics(\n",
    "    split_seqs, stares, \"train+valid sequences\")\n",
    "print(\n",
    "    f\"train+valid sequences interactions num: {ins}, select num: {ss}, qs: {qs}, cs: {cs}, seqnum: {seqnum}\")"
   ]
  },
  {
   "cell_type": "code",
   "execution_count": 62,
   "metadata": {},
   "outputs": [],
   "source": [
    "split_seqs.to_csv(\"../data/nips_task34/train_valid_sequences_50_left.csv\", index=False)"
   ]
  },
  {
   "cell_type": "code",
   "execution_count": null,
   "metadata": {},
   "outputs": [],
   "source": []
  }
 ],
 "metadata": {
  "kernelspec": {
   "display_name": "zion_kt",
   "language": "python",
   "name": "python3"
  },
  "language_info": {
   "codemirror_mode": {
    "name": "ipython",
    "version": 3
   },
   "file_extension": ".py",
   "mimetype": "text/x-python",
   "name": "python",
   "nbconvert_exporter": "python",
   "pygments_lexer": "ipython3",
   "version": "3.8.19"
  },
  "orig_nbformat": 4,
  "vscode": {
   "interpreter": {
    "hash": "caca5f5d50a7c3693f0c952699a7c4c9f1ed4a006a14fe43e884ab687f0ae607"
   }
  }
 },
 "nbformat": 4,
 "nbformat_minor": 2
}
