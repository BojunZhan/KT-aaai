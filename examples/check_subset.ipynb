{
 "cells": [
  {
   "cell_type": "code",
   "execution_count": 1,
   "metadata": {},
   "outputs": [],
   "source": [
    "import pandas as pd"
   ]
  },
  {
   "cell_type": "code",
   "execution_count": 7,
   "metadata": {},
   "outputs": [],
   "source": [
    "df1 = pd.read_csv(\"../data/assist2009/train_valid.csv\")\n",
    "def get_int_num(row):\n",
    "    interaction_num = len(row[\"responses\"].split(\",\"))\n",
    "    row[\"interaction_num\"] = interaction_num\n",
    "    return row\n",
    "df1 = df1.apply(get_int_num, axis=1)"
   ]
  },
  {
   "cell_type": "code",
   "execution_count": 8,
   "metadata": {},
   "outputs": [
    {
     "data": {
      "text/plain": [
       "count    3082.000000\n",
       "mean       89.102531\n",
       "std       170.236689\n",
       "min         3.000000\n",
       "25%        11.000000\n",
       "50%        26.000000\n",
       "75%        79.000000\n",
       "max      1295.000000\n",
       "Name: interaction_num, dtype: float64"
      ]
     },
     "execution_count": 8,
     "metadata": {},
     "output_type": "execute_result"
    }
   ],
   "source": [
    "df1[\"interaction_num\"].describe()"
   ]
  },
  {
   "cell_type": "code",
   "execution_count": 11,
   "metadata": {},
   "outputs": [],
   "source": [
    "# 将df1按照interaction_num进行排序\n",
    "df1 = df1.sort_values(by=\"interaction_num\").reset_index(drop=True)"
   ]
  },
  {
   "cell_type": "code",
   "execution_count": 12,
   "metadata": {},
   "outputs": [
    {
     "data": {
      "text/html": [
       "<div>\n",
       "<style scoped>\n",
       "    .dataframe tbody tr th:only-of-type {\n",
       "        vertical-align: middle;\n",
       "    }\n",
       "\n",
       "    .dataframe tbody tr th {\n",
       "        vertical-align: top;\n",
       "    }\n",
       "\n",
       "    .dataframe thead th {\n",
       "        text-align: right;\n",
       "    }\n",
       "</style>\n",
       "<table border=\"1\" class=\"dataframe\">\n",
       "  <thead>\n",
       "    <tr style=\"text-align: right;\">\n",
       "      <th></th>\n",
       "      <th>fold</th>\n",
       "      <th>uid</th>\n",
       "      <th>questions</th>\n",
       "      <th>concepts</th>\n",
       "      <th>responses</th>\n",
       "      <th>is_repeat</th>\n",
       "      <th>interaction_num</th>\n",
       "    </tr>\n",
       "  </thead>\n",
       "  <tbody>\n",
       "    <tr>\n",
       "      <th>0</th>\n",
       "      <td>1</td>\n",
       "      <td>3045</td>\n",
       "      <td>7940,6222,11947</td>\n",
       "      <td>3,3,3</td>\n",
       "      <td>0,1,0</td>\n",
       "      <td>0,0,0</td>\n",
       "      <td>3</td>\n",
       "    </tr>\n",
       "    <tr>\n",
       "      <th>1</th>\n",
       "      <td>0</td>\n",
       "      <td>3711</td>\n",
       "      <td>3821,6467,5291</td>\n",
       "      <td>10,10,10</td>\n",
       "      <td>1,1,1</td>\n",
       "      <td>0,0,0</td>\n",
       "      <td>3</td>\n",
       "    </tr>\n",
       "    <tr>\n",
       "      <th>2</th>\n",
       "      <td>2</td>\n",
       "      <td>1854</td>\n",
       "      <td>11054,12883,2862</td>\n",
       "      <td>75,37,7</td>\n",
       "      <td>1,1,1</td>\n",
       "      <td>0,0,0</td>\n",
       "      <td>3</td>\n",
       "    </tr>\n",
       "    <tr>\n",
       "      <th>3</th>\n",
       "      <td>4</td>\n",
       "      <td>3846</td>\n",
       "      <td>1703,10276,9052</td>\n",
       "      <td>88,88,88</td>\n",
       "      <td>0,1,0</td>\n",
       "      <td>0,0,0</td>\n",
       "      <td>3</td>\n",
       "    </tr>\n",
       "    <tr>\n",
       "      <th>4</th>\n",
       "      <td>4</td>\n",
       "      <td>3838</td>\n",
       "      <td>16396,16450,16404</td>\n",
       "      <td>63,63,63</td>\n",
       "      <td>1,1,1</td>\n",
       "      <td>0,0,0</td>\n",
       "      <td>3</td>\n",
       "    </tr>\n",
       "  </tbody>\n",
       "</table>\n",
       "</div>"
      ],
      "text/plain": [
       "   fold   uid          questions  concepts responses is_repeat  \\\n",
       "0     1  3045    7940,6222,11947     3,3,3     0,1,0     0,0,0   \n",
       "1     0  3711     3821,6467,5291  10,10,10     1,1,1     0,0,0   \n",
       "2     2  1854   11054,12883,2862   75,37,7     1,1,1     0,0,0   \n",
       "3     4  3846    1703,10276,9052  88,88,88     0,1,0     0,0,0   \n",
       "4     4  3838  16396,16450,16404  63,63,63     1,1,1     0,0,0   \n",
       "\n",
       "   interaction_num  \n",
       "0                3  \n",
       "1                3  \n",
       "2                3  \n",
       "3                3  \n",
       "4                3  "
      ]
     },
     "execution_count": 12,
     "metadata": {},
     "output_type": "execute_result"
    }
   ],
   "source": [
    "df1.head()"
   ]
  },
  {
   "cell_type": "code",
   "execution_count": 15,
   "metadata": {},
   "outputs": [
    {
     "data": {
      "text/plain": [
       "interaction_num\n",
       "3        64\n",
       "4        61\n",
       "5       131\n",
       "6        98\n",
       "7        87\n",
       "       ... \n",
       "1169      1\n",
       "1212      1\n",
       "1226      1\n",
       "1285      1\n",
       "1295      1\n",
       "Name: count, Length: 423, dtype: int64"
      ]
     },
     "execution_count": 15,
     "metadata": {},
     "output_type": "execute_result"
    }
   ],
   "source": [
    "# 将df1分为两部分"
   ]
  },
  {
   "cell_type": "code",
   "execution_count": null,
   "metadata": {},
   "outputs": [],
   "source": []
  }
 ],
 "metadata": {
  "kernelspec": {
   "display_name": "zion_kt",
   "language": "python",
   "name": "python3"
  },
  "language_info": {
   "codemirror_mode": {
    "name": "ipython",
    "version": 3
   },
   "file_extension": ".py",
   "mimetype": "text/x-python",
   "name": "python",
   "nbconvert_exporter": "python",
   "pygments_lexer": "ipython3",
   "version": "3.8.19"
  },
  "orig_nbformat": 4,
  "vscode": {
   "interpreter": {
    "hash": "caca5f5d50a7c3693f0c952699a7c4c9f1ed4a006a14fe43e884ab687f0ae607"
   }
  }
 },
 "nbformat": 4,
 "nbformat_minor": 2
}
